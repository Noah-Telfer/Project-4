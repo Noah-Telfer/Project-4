{
 "cells": [
  {
   "cell_type": "markdown",
   "id": "fb16d73f",
   "metadata": {},
   "source": [
    "# Data Visualization"
   ]
  },
  {
   "cell_type": "code",
   "execution_count": 1,
   "id": "1cc2ce75",
   "metadata": {},
   "outputs": [],
   "source": [
    "import pandas as pd\n",
    "import matplotlib.pyplot as plt\n",
    "import seaborn as sns\n",
    "import os \n",
    "import numpy as py "
   ]
  },
  {
   "cell_type": "code",
   "execution_count": 2,
   "id": "c32b7509",
   "metadata": {},
   "outputs": [],
   "source": [
    "dir = r'C:\\Users\\noaht\\Documents\\Data_Mining\\Project 4'\n",
    "graph_dir = r'C:\\Users\\noaht\\Documents\\Data_Mining\\Project 4\\Graphs'\n",
    "os.chdir(dir)"
   ]
  },
  {
   "cell_type": "code",
   "execution_count": 3,
   "id": "0d60e9db",
   "metadata": {},
   "outputs": [],
   "source": [
    "def doaHist(df, xlab):\n",
    "    print(xlab)\n",
    "    os.chdir(graph_dir)\n",
    "    ax = sns.histplot(data = df, x = xlab, bins = 10)\n",
    "    \n",
    "    try: \n",
    "        fig = ax.get_figure()\n",
    "        fig.savefig(xlab + '.png')\n",
    "    except:\n",
    "        print(\"error could not save file column:  \" + column)"
   ]
  },
  {
   "cell_type": "code",
   "execution_count": 4,
   "id": "a3047023",
   "metadata": {},
   "outputs": [],
   "source": [
    "def doaVGraph(df, xlab):\n",
    "    os.chdir(graph_dir)\n",
    "    \n",
    "    ax = sns.violinplot(x=xlab, data=df)\n",
    "    \n",
    "    try: \n",
    "        fig = ax.get_figure()\n",
    "        fig.savefig(xlab + '.png')\n",
    "    except:\n",
    "        print(\"error could not save file column:  \" + xlab)"
   ]
  },
  {
   "cell_type": "code",
   "execution_count": 5,
   "id": "c8865ee7",
   "metadata": {},
   "outputs": [],
   "source": [
    "df = pd.read_csv('CC General.csv')"
   ]
  },
  {
   "cell_type": "code",
   "execution_count": 6,
   "id": "bca13a47",
   "metadata": {},
   "outputs": [
    {
     "data": {
      "text/plain": [
       "(8950, 18)"
      ]
     },
     "execution_count": 6,
     "metadata": {},
     "output_type": "execute_result"
    }
   ],
   "source": [
    "df.shape"
   ]
  },
  {
   "cell_type": "code",
   "execution_count": 7,
   "id": "876844e7",
   "metadata": {},
   "outputs": [
    {
     "data": {
      "text/plain": [
       "CUST_ID                               0\n",
       "BALANCE                               0\n",
       "BALANCE_FREQUENCY                     0\n",
       "PURCHASES                             0\n",
       "ONEOFF_PURCHASES                      0\n",
       "INSTALLMENTS_PURCHASES                0\n",
       "CASH_ADVANCE                          0\n",
       "PURCHASES_FREQUENCY                   0\n",
       "ONEOFF_PURCHASES_FREQUENCY            0\n",
       "PURCHASES_INSTALLMENTS_FREQUENCY      0\n",
       "CASH_ADVANCE_FREQUENCY                0\n",
       "CASH_ADVANCE_TRX                      0\n",
       "PURCHASES_TRX                         0\n",
       "CREDIT_LIMIT                          1\n",
       "PAYMENTS                              0\n",
       "MINIMUM_PAYMENTS                    313\n",
       "PRC_FULL_PAYMENT                      0\n",
       "TENURE                                0\n",
       "dtype: int64"
      ]
     },
     "execution_count": 7,
     "metadata": {},
     "output_type": "execute_result"
    }
   ],
   "source": [
    "df.isna().sum()"
   ]
  },
  {
   "cell_type": "code",
   "execution_count": 8,
   "id": "ee9d44c1",
   "metadata": {},
   "outputs": [
    {
     "data": {
      "text/plain": [
       "CUST_ID                             0.000000\n",
       "BALANCE                             0.000000\n",
       "BALANCE_FREQUENCY                   0.000000\n",
       "PURCHASES                           0.000000\n",
       "ONEOFF_PURCHASES                    0.000000\n",
       "INSTALLMENTS_PURCHASES              0.000000\n",
       "CASH_ADVANCE                        0.000000\n",
       "PURCHASES_FREQUENCY                 0.000000\n",
       "ONEOFF_PURCHASES_FREQUENCY          0.000000\n",
       "PURCHASES_INSTALLMENTS_FREQUENCY    0.000000\n",
       "CASH_ADVANCE_FREQUENCY              0.000000\n",
       "CASH_ADVANCE_TRX                    0.000000\n",
       "PURCHASES_TRX                       0.000000\n",
       "CREDIT_LIMIT                        0.011173\n",
       "PAYMENTS                            0.000000\n",
       "MINIMUM_PAYMENTS                    3.497207\n",
       "PRC_FULL_PAYMENT                    0.000000\n",
       "TENURE                              0.000000\n",
       "dtype: float64"
      ]
     },
     "execution_count": 8,
     "metadata": {},
     "output_type": "execute_result"
    }
   ],
   "source": [
    "df.isna().sum()/df['CUST_ID'].size*100 # percentage of nulls in each column "
   ]
  },
  {
   "cell_type": "code",
   "execution_count": 9,
   "id": "b2634fa4",
   "metadata": {},
   "outputs": [
    {
     "name": "stdout",
     "output_type": "stream",
     "text": [
      "(8950, 18)\n",
      "(8636, 18)\n"
     ]
    }
   ],
   "source": [
    "# drop null values \n",
    "print(df.shape)\n",
    "df = df.dropna()\n",
    "print(df.shape)"
   ]
  },
  {
   "cell_type": "code",
   "execution_count": 10,
   "id": "88043a3d",
   "metadata": {},
   "outputs": [
    {
     "data": {
      "text/plain": [
       "CUST_ID                              object\n",
       "BALANCE                             float64\n",
       "BALANCE_FREQUENCY                   float64\n",
       "PURCHASES                           float64\n",
       "ONEOFF_PURCHASES                    float64\n",
       "INSTALLMENTS_PURCHASES              float64\n",
       "CASH_ADVANCE                        float64\n",
       "PURCHASES_FREQUENCY                 float64\n",
       "ONEOFF_PURCHASES_FREQUENCY          float64\n",
       "PURCHASES_INSTALLMENTS_FREQUENCY    float64\n",
       "CASH_ADVANCE_FREQUENCY              float64\n",
       "CASH_ADVANCE_TRX                      int64\n",
       "PURCHASES_TRX                         int64\n",
       "CREDIT_LIMIT                        float64\n",
       "PAYMENTS                            float64\n",
       "MINIMUM_PAYMENTS                    float64\n",
       "PRC_FULL_PAYMENT                    float64\n",
       "TENURE                                int64\n",
       "dtype: object"
      ]
     },
     "execution_count": 10,
     "metadata": {},
     "output_type": "execute_result"
    }
   ],
   "source": [
    "df.dtypes"
   ]
  },
  {
   "cell_type": "code",
   "execution_count": 11,
   "id": "cf51b9d8",
   "metadata": {},
   "outputs": [
    {
     "data": {
      "text/plain": [
       "(8636, 17)"
      ]
     },
     "execution_count": 11,
     "metadata": {},
     "output_type": "execute_result"
    }
   ],
   "source": [
    "df_Num = df.drop('CUST_ID', axis = 'columns') # don't need customers id \n",
    "df_Num.shape"
   ]
  },
  {
   "cell_type": "code",
   "execution_count": 12,
   "id": "8de78392",
   "metadata": {},
   "outputs": [],
   "source": [
    "int_stuff = df_Num.select_dtypes(include = \"int\").columns.to_list() # grab the columns with integers "
   ]
  },
  {
   "cell_type": "code",
   "execution_count": 13,
   "id": "aac21403",
   "metadata": {},
   "outputs": [
    {
     "data": {
      "text/plain": [
       "['CASH_ADVANCE_TRX', 'PURCHASES_TRX', 'TENURE']"
      ]
     },
     "execution_count": 13,
     "metadata": {},
     "output_type": "execute_result"
    }
   ],
   "source": [
    "int_stuff"
   ]
  },
  {
   "cell_type": "code",
   "execution_count": 14,
   "id": "85a8a1bb",
   "metadata": {},
   "outputs": [],
   "source": [
    "double_stuff = df_Num.select_dtypes(include = 'float64').columns.to_list() "
   ]
  },
  {
   "cell_type": "code",
   "execution_count": 15,
   "id": "99e75cb2",
   "metadata": {
    "scrolled": true
   },
   "outputs": [
    {
     "name": "stdout",
     "output_type": "stream",
     "text": [
      "CASH_ADVANCE_TRX\n",
      "PURCHASES_TRX\n",
      "TENURE\n"
     ]
    },
    {
     "data": {
      "image/png": "[encoded data removed]",
      "text/plain": [
       "<Figure size 432x288 with 1 Axes>"
      ]
     },
     "metadata": {
      "needs_background": "light"
     },
     "output_type": "display_data"
    }
   ],
   "source": [
    "for column in int_stuff : \n",
    "    doaHist(df_Num, column)"
   ]
  },
  {
   "cell_type": "code",
   "execution_count": 16,
   "id": "1f3ef52a",
   "metadata": {},
   "outputs": [
    {
     "data": {
      "image/png": "[encoded data removed]",
      "text/plain": [
       "<Figure size 432x288 with 1 Axes>"
      ]
     },
     "metadata": {
      "needs_background": "light"
     },
     "output_type": "display_data"
    }
   ],
   "source": [
    "\n",
    "for column in double_stuff : \n",
    "    doaVGraph(df_Num, column)"
   ]
  },
  {
   "cell_type": "code",
   "execution_count": 21,
   "id": "f84b242e",
   "metadata": {},
   "outputs": [
    {
     "name": "stdout",
     "output_type": "stream",
     "text": [
      "TENURE\n"
     ]
    },
    {
     "data": {
      "image/png": "[encoded data removed]",
      "text/plain": [
       "<Figure size 432x288 with 1 Axes>"
      ]
     },
     "metadata": {
      "needs_background": "light"
     },
     "output_type": "display_data"
    }
   ],
   "source": [
    "doaHist(df_Num, int_stuff[2])"
   ]
  },
  {
   "cell_type": "code",
   "execution_count": 18,
   "id": "ebc41bdf",
   "metadata": {},
   "outputs": [
    {
     "data": {
      "image/png": "[encoded data removed]",
      "text/plain": [
       "<Figure size 432x288 with 2 Axes>"
      ]
     },
     "metadata": {
      "needs_background": "light"
     },
     "output_type": "display_data"
    }
   ],
   "source": [
    "corMap = sns.heatmap(df_Num.corr())\n",
    "try: \n",
    "    fig = corMap.get_figure()\n",
    "    fig.savefig(\"Correlate\" + '.png')\n",
    "except:\n",
    "    print(\"error could not save file column:  \" + 'Correlate')"
   ]
  },
  {
   "cell_type": "code",
   "execution_count": 19,
   "id": "915b7493",
   "metadata": {},
   "outputs": [
    {
     "data": {
      "text/html": [
       "<div>\n",
       "<style scoped>\n",
       "    .dataframe tbody tr th:only-of-type {\n",
       "        vertical-align: middle;\n",
       "    }\n",
       "\n",
       "    .dataframe tbody tr th {\n",
       "        vertical-align: top;\n",
       "    }\n",
       "\n",
       "    .dataframe thead th {\n",
       "        text-align: right;\n",
       "    }\n",
       "</style>\n",
       "<table border=\"1\" class=\"dataframe\">\n",
       "  <thead>\n",
       "    <tr style=\"text-align: right;\">\n",
       "      <th></th>\n",
       "      <th>BALANCE</th>\n",
       "      <th>BALANCE_FREQUENCY</th>\n",
       "      <th>PURCHASES</th>\n",
       "      <th>ONEOFF_PURCHASES</th>\n",
       "      <th>INSTALLMENTS_PURCHASES</th>\n",
       "      <th>CASH_ADVANCE</th>\n",
       "      <th>PURCHASES_FREQUENCY</th>\n",
       "      <th>ONEOFF_PURCHASES_FREQUENCY</th>\n",
       "      <th>PURCHASES_INSTALLMENTS_FREQUENCY</th>\n",
       "      <th>CASH_ADVANCE_FREQUENCY</th>\n",
       "      <th>CASH_ADVANCE_TRX</th>\n",
       "      <th>PURCHASES_TRX</th>\n",
       "      <th>CREDIT_LIMIT</th>\n",
       "      <th>PAYMENTS</th>\n",
       "      <th>MINIMUM_PAYMENTS</th>\n",
       "      <th>PRC_FULL_PAYMENT</th>\n",
       "      <th>TENURE</th>\n",
       "    </tr>\n",
       "  </thead>\n",
       "  <tbody>\n",
       "    <tr>\n",
       "      <th>BALANCE</th>\n",
       "      <td>1.000000</td>\n",
       "      <td>0.310140</td>\n",
       "      <td>0.176083</td>\n",
       "      <td>0.159985</td>\n",
       "      <td>0.122109</td>\n",
       "      <td>0.495586</td>\n",
       "      <td>-0.088459</td>\n",
       "      <td>0.063832</td>\n",
       "      <td>-0.069582</td>\n",
       "      <td>0.445307</td>\n",
       "      <td>0.382388</td>\n",
       "      <td>0.147887</td>\n",
       "      <td>0.535518</td>\n",
       "      <td>0.322830</td>\n",
       "      <td>0.398669</td>\n",
       "      <td>-0.333594</td>\n",
       "      <td>0.066987</td>\n",
       "    </tr>\n",
       "    <tr>\n",
       "      <th>BALANCE_FREQUENCY</th>\n",
       "      <td>0.310140</td>\n",
       "      <td>1.000000</td>\n",
       "      <td>0.122635</td>\n",
       "      <td>0.095254</td>\n",
       "      <td>0.114739</td>\n",
       "      <td>0.089036</td>\n",
       "      <td>0.228158</td>\n",
       "      <td>0.187467</td>\n",
       "      <td>0.184159</td>\n",
       "      <td>0.181132</td>\n",
       "      <td>0.133265</td>\n",
       "      <td>0.183095</td>\n",
       "      <td>0.087682</td>\n",
       "      <td>0.039169</td>\n",
       "      <td>0.132519</td>\n",
       "      <td>-0.156961</td>\n",
       "      <td>0.104714</td>\n",
       "    </tr>\n",
       "    <tr>\n",
       "      <th>PURCHASES</th>\n",
       "      <td>0.176083</td>\n",
       "      <td>0.122635</td>\n",
       "      <td>1.000000</td>\n",
       "      <td>0.916780</td>\n",
       "      <td>0.679259</td>\n",
       "      <td>-0.053760</td>\n",
       "      <td>0.393000</td>\n",
       "      <td>0.497384</td>\n",
       "      <td>0.316025</td>\n",
       "      <td>-0.124863</td>\n",
       "      <td>-0.070277</td>\n",
       "      <td>0.688732</td>\n",
       "      <td>0.358425</td>\n",
       "      <td>0.606782</td>\n",
       "      <td>0.093842</td>\n",
       "      <td>0.176447</td>\n",
       "      <td>0.084545</td>\n",
       "    </tr>\n",
       "    <tr>\n",
       "      <th>ONEOFF_PURCHASES</th>\n",
       "      <td>0.159985</td>\n",
       "      <td>0.095254</td>\n",
       "      <td>0.916780</td>\n",
       "      <td>1.000000</td>\n",
       "      <td>0.329650</td>\n",
       "      <td>-0.033244</td>\n",
       "      <td>0.265460</td>\n",
       "      <td>0.524514</td>\n",
       "      <td>0.128380</td>\n",
       "      <td>-0.086413</td>\n",
       "      <td>-0.048705</td>\n",
       "      <td>0.545313</td>\n",
       "      <td>0.320613</td>\n",
       "      <td>0.570850</td>\n",
       "      <td>0.048741</td>\n",
       "      <td>0.129890</td>\n",
       "      <td>0.063400</td>\n",
       "    </tr>\n",
       "    <tr>\n",
       "      <th>INSTALLMENTS_PURCHASES</th>\n",
       "      <td>0.122109</td>\n",
       "      <td>0.114739</td>\n",
       "      <td>0.679259</td>\n",
       "      <td>0.329650</td>\n",
       "      <td>1.000000</td>\n",
       "      <td>-0.066099</td>\n",
       "      <td>0.441193</td>\n",
       "      <td>0.211829</td>\n",
       "      <td>0.511130</td>\n",
       "      <td>-0.136455</td>\n",
       "      <td>-0.076716</td>\n",
       "      <td>0.626083</td>\n",
       "      <td>0.258057</td>\n",
       "      <td>0.385391</td>\n",
       "      <td>0.132156</td>\n",
       "      <td>0.178440</td>\n",
       "      <td>0.083346</td>\n",
       "    </tr>\n",
       "    <tr>\n",
       "      <th>CASH_ADVANCE</th>\n",
       "      <td>0.495586</td>\n",
       "      <td>0.089036</td>\n",
       "      <td>-0.053760</td>\n",
       "      <td>-0.033244</td>\n",
       "      <td>-0.066099</td>\n",
       "      <td>1.000000</td>\n",
       "      <td>-0.218566</td>\n",
       "      <td>-0.090111</td>\n",
       "      <td>-0.178873</td>\n",
       "      <td>0.629030</td>\n",
       "      <td>0.656911</td>\n",
       "      <td>-0.078449</td>\n",
       "      <td>0.304161</td>\n",
       "      <td>0.459342</td>\n",
       "      <td>0.140094</td>\n",
       "      <td>-0.158566</td>\n",
       "      <td>-0.073090</td>\n",
       "    </tr>\n",
       "    <tr>\n",
       "      <th>PURCHASES_FREQUENCY</th>\n",
       "      <td>-0.088459</td>\n",
       "      <td>0.228158</td>\n",
       "      <td>0.393000</td>\n",
       "      <td>0.265460</td>\n",
       "      <td>0.441193</td>\n",
       "      <td>-0.218566</td>\n",
       "      <td>1.000000</td>\n",
       "      <td>0.502123</td>\n",
       "      <td>0.862338</td>\n",
       "      <td>-0.316771</td>\n",
       "      <td>-0.208749</td>\n",
       "      <td>0.567168</td>\n",
       "      <td>0.121372</td>\n",
       "      <td>0.100715</td>\n",
       "      <td>0.002979</td>\n",
       "      <td>0.305393</td>\n",
       "      <td>0.052161</td>\n",
       "    </tr>\n",
       "    <tr>\n",
       "      <th>ONEOFF_PURCHASES_FREQUENCY</th>\n",
       "      <td>0.063832</td>\n",
       "      <td>0.187467</td>\n",
       "      <td>0.497384</td>\n",
       "      <td>0.524514</td>\n",
       "      <td>0.211829</td>\n",
       "      <td>-0.090111</td>\n",
       "      <td>0.502123</td>\n",
       "      <td>1.000000</td>\n",
       "      <td>0.143911</td>\n",
       "      <td>-0.118225</td>\n",
       "      <td>-0.073384</td>\n",
       "      <td>0.544364</td>\n",
       "      <td>0.295432</td>\n",
       "      <td>0.244346</td>\n",
       "      <td>-0.030357</td>\n",
       "      <td>0.154073</td>\n",
       "      <td>0.080437</td>\n",
       "    </tr>\n",
       "    <tr>\n",
       "      <th>PURCHASES_INSTALLMENTS_FREQUENCY</th>\n",
       "      <td>-0.069582</td>\n",
       "      <td>0.184159</td>\n",
       "      <td>0.316025</td>\n",
       "      <td>0.128380</td>\n",
       "      <td>0.511130</td>\n",
       "      <td>-0.178873</td>\n",
       "      <td>0.862338</td>\n",
       "      <td>0.143911</td>\n",
       "      <td>1.000000</td>\n",
       "      <td>-0.268924</td>\n",
       "      <td>-0.172811</td>\n",
       "      <td>0.529192</td>\n",
       "      <td>0.063421</td>\n",
       "      <td>0.083424</td>\n",
       "      <td>0.030036</td>\n",
       "      <td>0.249547</td>\n",
       "      <td>0.065779</td>\n",
       "    </tr>\n",
       "    <tr>\n",
       "      <th>CASH_ADVANCE_FREQUENCY</th>\n",
       "      <td>0.445307</td>\n",
       "      <td>0.181132</td>\n",
       "      <td>-0.124863</td>\n",
       "      <td>-0.086413</td>\n",
       "      <td>-0.136455</td>\n",
       "      <td>0.629030</td>\n",
       "      <td>-0.316771</td>\n",
       "      <td>-0.118225</td>\n",
       "      <td>-0.268924</td>\n",
       "      <td>1.000000</td>\n",
       "      <td>0.799593</td>\n",
       "      <td>-0.136913</td>\n",
       "      <td>0.132841</td>\n",
       "      <td>0.182340</td>\n",
       "      <td>0.098844</td>\n",
       "      <td>-0.260001</td>\n",
       "      <td>-0.140038</td>\n",
       "    </tr>\n",
       "    <tr>\n",
       "      <th>CASH_ADVANCE_TRX</th>\n",
       "      <td>0.382388</td>\n",
       "      <td>0.133265</td>\n",
       "      <td>-0.070277</td>\n",
       "      <td>-0.048705</td>\n",
       "      <td>-0.076716</td>\n",
       "      <td>0.656911</td>\n",
       "      <td>-0.208749</td>\n",
       "      <td>-0.073384</td>\n",
       "      <td>-0.172811</td>\n",
       "      <td>0.799593</td>\n",
       "      <td>1.000000</td>\n",
       "      <td>-0.069879</td>\n",
       "      <td>0.150261</td>\n",
       "      <td>0.255921</td>\n",
       "      <td>0.109727</td>\n",
       "      <td>-0.176574</td>\n",
       "      <td>-0.045350</td>\n",
       "    </tr>\n",
       "    <tr>\n",
       "      <th>PURCHASES_TRX</th>\n",
       "      <td>0.147887</td>\n",
       "      <td>0.183095</td>\n",
       "      <td>0.688732</td>\n",
       "      <td>0.545313</td>\n",
       "      <td>0.626083</td>\n",
       "      <td>-0.078449</td>\n",
       "      <td>0.567168</td>\n",
       "      <td>0.544364</td>\n",
       "      <td>0.529192</td>\n",
       "      <td>-0.136913</td>\n",
       "      <td>-0.069879</td>\n",
       "      <td>1.000000</td>\n",
       "      <td>0.273715</td>\n",
       "      <td>0.371477</td>\n",
       "      <td>0.096311</td>\n",
       "      <td>0.156789</td>\n",
       "      <td>0.118889</td>\n",
       "    </tr>\n",
       "    <tr>\n",
       "      <th>CREDIT_LIMIT</th>\n",
       "      <td>0.535518</td>\n",
       "      <td>0.087682</td>\n",
       "      <td>0.358425</td>\n",
       "      <td>0.320613</td>\n",
       "      <td>0.258057</td>\n",
       "      <td>0.304161</td>\n",
       "      <td>0.121372</td>\n",
       "      <td>0.295432</td>\n",
       "      <td>0.063421</td>\n",
       "      <td>0.132841</td>\n",
       "      <td>0.150261</td>\n",
       "      <td>0.273715</td>\n",
       "      <td>1.000000</td>\n",
       "      <td>0.426951</td>\n",
       "      <td>0.126671</td>\n",
       "      <td>0.052578</td>\n",
       "      <td>0.136464</td>\n",
       "    </tr>\n",
       "    <tr>\n",
       "      <th>PAYMENTS</th>\n",
       "      <td>0.322830</td>\n",
       "      <td>0.039169</td>\n",
       "      <td>0.606782</td>\n",
       "      <td>0.570850</td>\n",
       "      <td>0.385391</td>\n",
       "      <td>0.459342</td>\n",
       "      <td>0.100715</td>\n",
       "      <td>0.244346</td>\n",
       "      <td>0.083424</td>\n",
       "      <td>0.182340</td>\n",
       "      <td>0.255921</td>\n",
       "      <td>0.371477</td>\n",
       "      <td>0.426951</td>\n",
       "      <td>1.000000</td>\n",
       "      <td>0.126630</td>\n",
       "      <td>0.104668</td>\n",
       "      <td>0.102986</td>\n",
       "    </tr>\n",
       "    <tr>\n",
       "      <th>MINIMUM_PAYMENTS</th>\n",
       "      <td>0.398669</td>\n",
       "      <td>0.132519</td>\n",
       "      <td>0.093842</td>\n",
       "      <td>0.048741</td>\n",
       "      <td>0.132156</td>\n",
       "      <td>0.140094</td>\n",
       "      <td>0.002979</td>\n",
       "      <td>-0.030357</td>\n",
       "      <td>0.030036</td>\n",
       "      <td>0.098844</td>\n",
       "      <td>0.109727</td>\n",
       "      <td>0.096311</td>\n",
       "      <td>0.126671</td>\n",
       "      <td>0.126630</td>\n",
       "      <td>1.000000</td>\n",
       "      <td>-0.140404</td>\n",
       "      <td>0.059330</td>\n",
       "    </tr>\n",
       "    <tr>\n",
       "      <th>PRC_FULL_PAYMENT</th>\n",
       "      <td>-0.333594</td>\n",
       "      <td>-0.156961</td>\n",
       "      <td>0.176447</td>\n",
       "      <td>0.129890</td>\n",
       "      <td>0.178440</td>\n",
       "      <td>-0.158566</td>\n",
       "      <td>0.305393</td>\n",
       "      <td>0.154073</td>\n",
       "      <td>0.249547</td>\n",
       "      <td>-0.260001</td>\n",
       "      <td>-0.176574</td>\n",
       "      <td>0.156789</td>\n",
       "      <td>0.052578</td>\n",
       "      <td>0.104668</td>\n",
       "      <td>-0.140404</td>\n",
       "      <td>1.000000</td>\n",
       "      <td>-0.024223</td>\n",
       "    </tr>\n",
       "    <tr>\n",
       "      <th>TENURE</th>\n",
       "      <td>0.066987</td>\n",
       "      <td>0.104714</td>\n",
       "      <td>0.084545</td>\n",
       "      <td>0.063400</td>\n",
       "      <td>0.083346</td>\n",
       "      <td>-0.073090</td>\n",
       "      <td>0.052161</td>\n",
       "      <td>0.080437</td>\n",
       "      <td>0.065779</td>\n",
       "      <td>-0.140038</td>\n",
       "      <td>-0.045350</td>\n",
       "      <td>0.118889</td>\n",
       "      <td>0.136464</td>\n",
       "      <td>0.102986</td>\n",
       "      <td>0.059330</td>\n",
       "      <td>-0.024223</td>\n",
       "      <td>1.000000</td>\n",
       "    </tr>\n",
       "  </tbody>\n",
       "</table>\n",
       "</div>"
      ],
      "text/plain": [
       "                                   BALANCE  BALANCE_FREQUENCY  PURCHASES  \\\n",
       "BALANCE                           1.000000           0.310140   0.176083   \n",
       "BALANCE_FREQUENCY                 0.310140           1.000000   0.122635   \n",
       "PURCHASES                         0.176083           0.122635   1.000000   \n",
       "ONEOFF_PURCHASES                  0.159985           0.095254   0.916780   \n",
       "INSTALLMENTS_PURCHASES            0.122109           0.114739   0.679259   \n",
       "CASH_ADVANCE                      0.495586           0.089036  -0.053760   \n",
       "PURCHASES_FREQUENCY              -0.088459           0.228158   0.393000   \n",
       "ONEOFF_PURCHASES_FREQUENCY        0.063832           0.187467   0.497384   \n",
       "PURCHASES_INSTALLMENTS_FREQUENCY -0.069582           0.184159   0.316025   \n",
       "CASH_ADVANCE_FREQUENCY            0.445307           0.181132  -0.124863   \n",
       "CASH_ADVANCE_TRX                  0.382388           0.133265  -0.070277   \n",
       "PURCHASES_TRX                     0.147887           0.183095   0.688732   \n",
       "CREDIT_LIMIT                      0.535518           0.087682   0.358425   \n",
       "PAYMENTS                          0.322830           0.039169   0.606782   \n",
       "MINIMUM_PAYMENTS                  0.398669           0.132519   0.093842   \n",
       "PRC_FULL_PAYMENT                 -0.333594          -0.156961   0.176447   \n",
       "TENURE                            0.066987           0.104714   0.084545   \n",
       "\n",
       "                                  ONEOFF_PURCHASES  INSTALLMENTS_PURCHASES  \\\n",
       "BALANCE                                   0.159985                0.122109   \n",
       "BALANCE_FREQUENCY                         0.095254                0.114739   \n",
       "PURCHASES                                 0.916780                0.679259   \n",
       "ONEOFF_PURCHASES                          1.000000                0.329650   \n",
       "INSTALLMENTS_PURCHASES                    0.329650                1.000000   \n",
       "CASH_ADVANCE                             -0.033244               -0.066099   \n",
       "PURCHASES_FREQUENCY                       0.265460                0.441193   \n",
       "ONEOFF_PURCHASES_FREQUENCY                0.524514                0.211829   \n",
       "PURCHASES_INSTALLMENTS_FREQUENCY          0.128380                0.511130   \n",
       "CASH_ADVANCE_FREQUENCY                   -0.086413               -0.136455   \n",
       "CASH_ADVANCE_TRX                         -0.048705               -0.076716   \n",
       "PURCHASES_TRX                             0.545313                0.626083   \n",
       "CREDIT_LIMIT                              0.320613                0.258057   \n",
       "PAYMENTS                                  0.570850                0.385391   \n",
       "MINIMUM_PAYMENTS                          0.048741                0.132156   \n",
       "PRC_FULL_PAYMENT                          0.129890                0.178440   \n",
       "TENURE                                    0.063400                0.083346   \n",
       "\n",
       "                                  CASH_ADVANCE  PURCHASES_FREQUENCY  \\\n",
       "BALANCE                               0.495586            -0.088459   \n",
       "BALANCE_FREQUENCY                     0.089036             0.228158   \n",
       "PURCHASES                            -0.053760             0.393000   \n",
       "ONEOFF_PURCHASES                     -0.033244             0.265460   \n",
       "INSTALLMENTS_PURCHASES               -0.066099             0.441193   \n",
       "CASH_ADVANCE                          1.000000            -0.218566   \n",
       "PURCHASES_FREQUENCY                  -0.218566             1.000000   \n",
       "ONEOFF_PURCHASES_FREQUENCY           -0.090111             0.502123   \n",
       "PURCHASES_INSTALLMENTS_FREQUENCY     -0.178873             0.862338   \n",
       "CASH_ADVANCE_FREQUENCY                0.629030            -0.316771   \n",
       "CASH_ADVANCE_TRX                      0.656911            -0.208749   \n",
       "PURCHASES_TRX                        -0.078449             0.567168   \n",
       "CREDIT_LIMIT                          0.304161             0.121372   \n",
       "PAYMENTS                              0.459342             0.100715   \n",
       "MINIMUM_PAYMENTS                      0.140094             0.002979   \n",
       "PRC_FULL_PAYMENT                     -0.158566             0.305393   \n",
       "TENURE                               -0.073090             0.052161   \n",
       "\n",
       "                                  ONEOFF_PURCHASES_FREQUENCY  \\\n",
       "BALANCE                                             0.063832   \n",
       "BALANCE_FREQUENCY                                   0.187467   \n",
       "PURCHASES                                           0.497384   \n",
       "ONEOFF_PURCHASES                                    0.524514   \n",
       "INSTALLMENTS_PURCHASES                              0.211829   \n",
       "CASH_ADVANCE                                       -0.090111   \n",
       "PURCHASES_FREQUENCY                                 0.502123   \n",
       "ONEOFF_PURCHASES_FREQUENCY                          1.000000   \n",
       "PURCHASES_INSTALLMENTS_FREQUENCY                    0.143911   \n",
       "CASH_ADVANCE_FREQUENCY                             -0.118225   \n",
       "CASH_ADVANCE_TRX                                   -0.073384   \n",
       "PURCHASES_TRX                                       0.544364   \n",
       "CREDIT_LIMIT                                        0.295432   \n",
       "PAYMENTS                                            0.244346   \n",
       "MINIMUM_PAYMENTS                                   -0.030357   \n",
       "PRC_FULL_PAYMENT                                    0.154073   \n",
       "TENURE                                              0.080437   \n",
       "\n",
       "                                  PURCHASES_INSTALLMENTS_FREQUENCY  \\\n",
       "BALANCE                                                  -0.069582   \n",
       "BALANCE_FREQUENCY                                         0.184159   \n",
       "PURCHASES                                                 0.316025   \n",
       "ONEOFF_PURCHASES                                          0.128380   \n",
       "INSTALLMENTS_PURCHASES                                    0.511130   \n",
       "CASH_ADVANCE                                             -0.178873   \n",
       "PURCHASES_FREQUENCY                                       0.862338   \n",
       "ONEOFF_PURCHASES_FREQUENCY                                0.143911   \n",
       "PURCHASES_INSTALLMENTS_FREQUENCY                          1.000000   \n",
       "CASH_ADVANCE_FREQUENCY                                   -0.268924   \n",
       "CASH_ADVANCE_TRX                                         -0.172811   \n",
       "PURCHASES_TRX                                             0.529192   \n",
       "CREDIT_LIMIT                                              0.063421   \n",
       "PAYMENTS                                                  0.083424   \n",
       "MINIMUM_PAYMENTS                                          0.030036   \n",
       "PRC_FULL_PAYMENT                                          0.249547   \n",
       "TENURE                                                    0.065779   \n",
       "\n",
       "                                  CASH_ADVANCE_FREQUENCY  CASH_ADVANCE_TRX  \\\n",
       "BALANCE                                         0.445307          0.382388   \n",
       "BALANCE_FREQUENCY                               0.181132          0.133265   \n",
       "PURCHASES                                      -0.124863         -0.070277   \n",
       "ONEOFF_PURCHASES                               -0.086413         -0.048705   \n",
       "INSTALLMENTS_PURCHASES                         -0.136455         -0.076716   \n",
       "CASH_ADVANCE                                    0.629030          0.656911   \n",
       "PURCHASES_FREQUENCY                            -0.316771         -0.208749   \n",
       "ONEOFF_PURCHASES_FREQUENCY                     -0.118225         -0.073384   \n",
       "PURCHASES_INSTALLMENTS_FREQUENCY               -0.268924         -0.172811   \n",
       "CASH_ADVANCE_FREQUENCY                          1.000000          0.799593   \n",
       "CASH_ADVANCE_TRX                                0.799593          1.000000   \n",
       "PURCHASES_TRX                                  -0.136913         -0.069879   \n",
       "CREDIT_LIMIT                                    0.132841          0.150261   \n",
       "PAYMENTS                                        0.182340          0.255921   \n",
       "MINIMUM_PAYMENTS                                0.098844          0.109727   \n",
       "PRC_FULL_PAYMENT                               -0.260001         -0.176574   \n",
       "TENURE                                         -0.140038         -0.045350   \n",
       "\n",
       "                                  PURCHASES_TRX  CREDIT_LIMIT  PAYMENTS  \\\n",
       "BALANCE                                0.147887      0.535518  0.322830   \n",
       "BALANCE_FREQUENCY                      0.183095      0.087682  0.039169   \n",
       "PURCHASES                              0.688732      0.358425  0.606782   \n",
       "ONEOFF_PURCHASES                       0.545313      0.320613  0.570850   \n",
       "INSTALLMENTS_PURCHASES                 0.626083      0.258057  0.385391   \n",
       "CASH_ADVANCE                          -0.078449      0.304161  0.459342   \n",
       "PURCHASES_FREQUENCY                    0.567168      0.121372  0.100715   \n",
       "ONEOFF_PURCHASES_FREQUENCY             0.544364      0.295432  0.244346   \n",
       "PURCHASES_INSTALLMENTS_FREQUENCY       0.529192      0.063421  0.083424   \n",
       "CASH_ADVANCE_FREQUENCY                -0.136913      0.132841  0.182340   \n",
       "CASH_ADVANCE_TRX                      -0.069879      0.150261  0.255921   \n",
       "PURCHASES_TRX                          1.000000      0.273715  0.371477   \n",
       "CREDIT_LIMIT                           0.273715      1.000000  0.426951   \n",
       "PAYMENTS                               0.371477      0.426951  1.000000   \n",
       "MINIMUM_PAYMENTS                       0.096311      0.126671  0.126630   \n",
       "PRC_FULL_PAYMENT                       0.156789      0.052578  0.104668   \n",
       "TENURE                                 0.118889      0.136464  0.102986   \n",
       "\n",
       "                                  MINIMUM_PAYMENTS  PRC_FULL_PAYMENT    TENURE  \n",
       "BALANCE                                   0.398669         -0.333594  0.066987  \n",
       "BALANCE_FREQUENCY                         0.132519         -0.156961  0.104714  \n",
       "PURCHASES                                 0.093842          0.176447  0.084545  \n",
       "ONEOFF_PURCHASES                          0.048741          0.129890  0.063400  \n",
       "INSTALLMENTS_PURCHASES                    0.132156          0.178440  0.083346  \n",
       "CASH_ADVANCE                              0.140094         -0.158566 -0.073090  \n",
       "PURCHASES_FREQUENCY                       0.002979          0.305393  0.052161  \n",
       "ONEOFF_PURCHASES_FREQUENCY               -0.030357          0.154073  0.080437  \n",
       "PURCHASES_INSTALLMENTS_FREQUENCY          0.030036          0.249547  0.065779  \n",
       "CASH_ADVANCE_FREQUENCY                    0.098844         -0.260001 -0.140038  \n",
       "CASH_ADVANCE_TRX                          0.109727         -0.176574 -0.045350  \n",
       "PURCHASES_TRX                             0.096311          0.156789  0.118889  \n",
       "CREDIT_LIMIT                              0.126671          0.052578  0.136464  \n",
       "PAYMENTS                                  0.126630          0.104668  0.102986  \n",
       "MINIMUM_PAYMENTS                          1.000000         -0.140404  0.059330  \n",
       "PRC_FULL_PAYMENT                         -0.140404          1.000000 -0.024223  \n",
       "TENURE                                    0.059330         -0.024223  1.000000  "
      ]
     },
     "execution_count": 19,
     "metadata": {},
     "output_type": "execute_result"
    }
   ],
   "source": [
    "df_Num.corr()"
   ]
  },
  {
   "cell_type": "code",
   "execution_count": 20,
   "id": "f821a0ba",
   "metadata": {},
   "outputs": [],
   "source": [
    "os.chdir(dir)\n",
    "df_Num.to_csv('Ready_Data.csv', index = False)"
   ]
  },
  {
   "cell_type": "markdown",
   "id": "12db8727",
   "metadata": {},
   "source": [
    "# Will Move to Data exploration now \n"
   ]
  }
 ],
 "metadata": {
  "kernelspec": {
   "display_name": "Python 3 (ipykernel)",
   "language": "python",
   "name": "python3"
  },
  "language_info": {
   "codemirror_mode": {
    "name": "ipython",
    "version": 3
   },
   "file_extension": ".py",
   "mimetype": "text/x-python",
   "name": "python",
   "nbconvert_exporter": "python",
   "pygments_lexer": "ipython3",
   "version": "3.9.7"
  }
 },
 "nbformat": 4,
 "nbformat_minor": 5
}
